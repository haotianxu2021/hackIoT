{
 "cells": [
  {
   "cell_type": "code",
   "execution_count": 156,
   "id": "823918fb",
   "metadata": {},
   "outputs": [],
   "source": [
    "import tensorflow as tf\n",
    "from tensorflow.keras.applications import EfficientNetV2S\n",
    "model = EfficientNetB0(include_top=False, weights='imagenet')\n",
    "import matplotlib.pyplot as plt"
   ]
  },
  {
   "cell_type": "code",
   "execution_count": 157,
   "id": "50b2a0c8",
   "metadata": {},
   "outputs": [
    {
     "name": "stdout",
     "output_type": "stream",
     "text": [
      "Found 55 files belonging to 3 classes.\n"
     ]
    }
   ],
   "source": [
    "dataset = tf.keras.utils.image_dataset_from_directory(\"C:/class/sql/BATT/\")"
   ]
  },
  {
   "cell_type": "code",
   "execution_count": 99,
   "id": "b2ab82ee",
   "metadata": {},
   "outputs": [
    {
     "name": "stdout",
     "output_type": "stream",
     "text": [
      "Requirement already satisfied: tensorflow_datasets in c:\\users\\horac\\anaconda3\\lib\\site-packages (4.5.2)\n",
      "Requirement already satisfied: dill in c:\\users\\horac\\anaconda3\\lib\\site-packages (from tensorflow_datasets) (0.3.4)\n",
      "Requirement already satisfied: absl-py in c:\\users\\horac\\anaconda3\\lib\\site-packages (from tensorflow_datasets) (1.0.0)\n",
      "Requirement already satisfied: tensorflow-metadata in c:\\users\\horac\\anaconda3\\lib\\site-packages (from tensorflow_datasets) (1.7.0)\n",
      "Requirement already satisfied: tqdm in c:\\users\\horac\\anaconda3\\lib\\site-packages (from tensorflow_datasets) (4.59.0)\n",
      "Requirement already satisfied: six in c:\\users\\horac\\anaconda3\\lib\\site-packages (from tensorflow_datasets) (1.15.0)\n",
      "Requirement already satisfied: protobuf>=3.12.2 in c:\\users\\horac\\anaconda3\\lib\\site-packages (from tensorflow_datasets) (3.19.4)\n",
      "Requirement already satisfied: numpy in c:\\users\\horac\\anaconda3\\lib\\site-packages (from tensorflow_datasets) (1.20.1)\n",
      "Requirement already satisfied: termcolor in c:\\users\\horac\\anaconda3\\lib\\site-packages (from tensorflow_datasets) (1.1.0)\n",
      "Requirement already satisfied: requests>=2.19.0 in c:\\users\\horac\\anaconda3\\lib\\site-packages (from tensorflow_datasets) (2.25.1)\n",
      "Requirement already satisfied: importlib-resources in c:\\users\\horac\\anaconda3\\lib\\site-packages (from tensorflow_datasets) (5.6.0)\n",
      "Requirement already satisfied: promise in c:\\users\\horac\\anaconda3\\lib\\site-packages (from tensorflow_datasets) (2.3)\n",
      "Requirement already satisfied: chardet<5,>=3.0.2 in c:\\users\\horac\\anaconda3\\lib\\site-packages (from requests>=2.19.0->tensorflow_datasets) (4.0.0)\n",
      "Requirement already satisfied: certifi>=2017.4.17 in c:\\users\\horac\\anaconda3\\lib\\site-packages (from requests>=2.19.0->tensorflow_datasets) (2020.12.5)\n",
      "Requirement already satisfied: idna<3,>=2.5 in c:\\users\\horac\\anaconda3\\lib\\site-packages (from requests>=2.19.0->tensorflow_datasets) (2.10)\n",
      "Requirement already satisfied: urllib3<1.27,>=1.21.1 in c:\\users\\horac\\anaconda3\\lib\\site-packages (from requests>=2.19.0->tensorflow_datasets) (1.26.4)\n",
      "Requirement already satisfied: zipp>=3.1.0 in c:\\users\\horac\\anaconda3\\lib\\site-packages (from importlib-resources->tensorflow_datasets) (3.4.1)\n",
      "Requirement already satisfied: googleapis-common-protos<2,>=1.52.0 in c:\\users\\horac\\anaconda3\\lib\\site-packages (from tensorflow-metadata->tensorflow_datasets) (1.56.0)\n",
      "Note: you may need to restart the kernel to use updated packages.\n"
     ]
    }
   ],
   "source": [
    "pip install tensorflow_datasets"
   ]
  },
  {
   "cell_type": "code",
   "execution_count": 158,
   "id": "9194989d",
   "metadata": {},
   "outputs": [],
   "source": [
    "import tensorflow_datasets as tfds\n",
    "from tensorflow.keras.applications import EfficientNetV2S\n",
    "from tensorflow.keras.models import Sequential\n",
    "from tensorflow.keras import layers\n",
    "import keras"
   ]
  },
  {
   "cell_type": "code",
   "execution_count": 172,
   "id": "edb8000f",
   "metadata": {},
   "outputs": [],
   "source": [
    "image, label = next(iter(dataset))"
   ]
  },
  {
   "cell_type": "code",
   "execution_count": 174,
   "id": "385306ff",
   "metadata": {},
   "outputs": [],
   "source": [
    "label = tf.keras.utils.to_categorical(label, 3)"
   ]
  },
  {
   "cell_type": "code",
   "execution_count": 175,
   "id": "1a8731ea",
   "metadata": {},
   "outputs": [
    {
     "data": {
      "text/plain": [
       "array([[0., 1., 0.],\n",
       "       [1., 0., 0.],\n",
       "       [0., 1., 0.],\n",
       "       [1., 0., 0.],\n",
       "       [0., 0., 1.],\n",
       "       [0., 1., 0.],\n",
       "       [0., 1., 0.],\n",
       "       [1., 0., 0.],\n",
       "       [1., 0., 0.],\n",
       "       [0., 1., 0.],\n",
       "       [0., 1., 0.],\n",
       "       [1., 0., 0.],\n",
       "       [0., 1., 0.],\n",
       "       [0., 1., 0.],\n",
       "       [1., 0., 0.],\n",
       "       [0., 1., 0.],\n",
       "       [1., 0., 0.],\n",
       "       [0., 0., 1.],\n",
       "       [0., 1., 0.],\n",
       "       [0., 1., 0.],\n",
       "       [0., 1., 0.],\n",
       "       [0., 0., 1.],\n",
       "       [0., 1., 0.],\n",
       "       [0., 1., 0.],\n",
       "       [0., 1., 0.],\n",
       "       [1., 0., 0.],\n",
       "       [0., 1., 0.],\n",
       "       [0., 0., 1.],\n",
       "       [0., 1., 0.],\n",
       "       [0., 0., 1.],\n",
       "       [1., 0., 0.],\n",
       "       [1., 0., 0.]], dtype=float32)"
      ]
     },
     "execution_count": 175,
     "metadata": {},
     "output_type": "execute_result"
    }
   ],
   "source": [
    "label"
   ]
  },
  {
   "cell_type": "code",
   "execution_count": 162,
   "id": "ea2cd9cb",
   "metadata": {},
   "outputs": [],
   "source": [
    "datagen = tf.keras.preprocessing.image.ImageDataGenerator(rotation_range=15, zoom_range=0.2, brightness_range=[0.5,1.5],validation_split=0.1)\n",
    "it = datagen.flow(image, label,subset=\"training\")\n",
    "it_v = datagen.flow(image, label,subset=\"validation\")"
   ]
  },
  {
   "cell_type": "code",
   "execution_count": 163,
   "id": "05231a88",
   "metadata": {},
   "outputs": [
    {
     "name": "stdout",
     "output_type": "stream",
     "text": [
      "Not connected to a TPU runtime. Using CPU/GPU strategy\n",
      "WARNING:tensorflow:There are non-GPU devices in `tf.distribute.Strategy`, not using nccl allreduce.\n",
      "INFO:tensorflow:Using MirroredStrategy with devices ('/job:localhost/replica:0/task:0/device:CPU:0',)\n"
     ]
    }
   ],
   "source": [
    "try:\n",
    "    tpu = tf.distribute.cluster_resolver.TPUClusterResolver.connect()\n",
    "    print(\"Device:\", tpu.master())\n",
    "    strategy = tf.distribute.TPUStrategy(tpu)\n",
    "except ValueError:\n",
    "    print(\"Not connected to a TPU runtime. Using CPU/GPU strategy\")\n",
    "    strategy = tf.distribute.MirroredStrategy()"
   ]
  },
  {
   "cell_type": "code",
   "execution_count": 164,
   "id": "cc522587",
   "metadata": {},
   "outputs": [],
   "source": [
    "def build_model(num_classes):\n",
    "    inputs = layers.Input(shape=(256, 256, 3))\n",
    "    # x = img_augmentation(inputs)\n",
    "    model = EfficientNetV2S(include_top=False, input_tensor=inputs, weights=\"imagenet\")\n",
    "\n",
    "    # Freeze the pretrained weights\n",
    "    model.trainable = False\n",
    "\n",
    "    # Rebuild top\n",
    "    x = layers.GlobalAveragePooling2D(name=\"avg_pool\")(model.output)\n",
    "    x = layers.BatchNormalization()(x)\n",
    "\n",
    "    top_dropout_rate = 0.2\n",
    "    x = layers.Dropout(top_dropout_rate, name=\"top_dropout\")(x)\n",
    "    outputs = layers.Dense(3, activation=\"softmax\", name=\"pred\")(x)\n",
    "\n",
    "    # Compile\n",
    "    model = tf.keras.Model(inputs, outputs, name=\"EfficientNet\")\n",
    "    optimizer = tf.keras.optimizers.Adam(learning_rate=1e-2)\n",
    "    model.compile(\n",
    "        optimizer=optimizer, loss=\"categorical_crossentropy\", metrics=[\"accuracy\"]\n",
    "    )\n",
    "    return model"
   ]
  },
  {
   "cell_type": "code",
   "execution_count": 165,
   "id": "6aab7c3e",
   "metadata": {},
   "outputs": [],
   "source": [
    "def plot_hist(hist):\n",
    "    plt.plot(hist.history[\"accuracy\"])\n",
    "    plt.plot(hist.history[\"val_accuracy\"])\n",
    "    plt.title(\"model accuracy\")\n",
    "    plt.ylabel(\"accuracy\")\n",
    "    plt.xlabel(\"epoch\")\n",
    "    plt.legend([\"train\", \"validation\"], loc=\"upper left\")\n",
    "    plt.show()"
   ]
  },
  {
   "cell_type": "code",
   "execution_count": 166,
   "id": "670e911a",
   "metadata": {
    "scrolled": true
   },
   "outputs": [
    {
     "name": "stdout",
     "output_type": "stream",
     "text": [
      "Downloading data from https://storage.googleapis.com/tensorflow/keras-applications/efficientnet_v2/efficientnetv2-s_notop.h5\n",
      "82427904/82420632 [==============================] - 3s 0us/step\n",
      "82436096/82420632 [==============================] - 3s 0us/step\n"
     ]
    },
    {
     "name": "stderr",
     "output_type": "stream",
     "text": [
      "<ipython-input-166-537fcea759dd>:5: UserWarning: `Model.fit_generator` is deprecated and will be removed in a future version. Please use `Model.fit`, which supports generators.\n",
      "  hist = model.fit_generator(it,epochs=epochs,validation_data=it_v)\n"
     ]
    },
    {
     "name": "stdout",
     "output_type": "stream",
     "text": [
      "Epoch 1/20\n",
      "1/1 [==============================] - 11s 11s/step - loss: 1.9299 - accuracy: 0.3448 - val_loss: 0.6587 - val_accuracy: 0.6667\n",
      "Epoch 2/20\n",
      "1/1 [==============================] - 2s 2s/step - loss: 0.1341 - accuracy: 0.9655 - val_loss: 0.3204 - val_accuracy: 1.0000\n",
      "Epoch 3/20\n",
      "1/1 [==============================] - 2s 2s/step - loss: 0.0764 - accuracy: 0.9655 - val_loss: 0.0928 - val_accuracy: 1.0000\n",
      "Epoch 4/20\n",
      "1/1 [==============================] - 2s 2s/step - loss: 0.0026 - accuracy: 1.0000 - val_loss: 0.0651 - val_accuracy: 1.0000\n",
      "Epoch 5/20\n",
      "1/1 [==============================] - 2s 2s/step - loss: 0.0306 - accuracy: 0.9655 - val_loss: 0.1014 - val_accuracy: 1.0000\n",
      "Epoch 6/20\n",
      "1/1 [==============================] - 2s 2s/step - loss: 0.0891 - accuracy: 0.9310 - val_loss: 0.0820 - val_accuracy: 1.0000\n",
      "Epoch 7/20\n",
      "1/1 [==============================] - 2s 2s/step - loss: 0.0346 - accuracy: 0.9655 - val_loss: 0.0466 - val_accuracy: 1.0000\n",
      "Epoch 8/20\n",
      "1/1 [==============================] - 2s 2s/step - loss: 0.0047 - accuracy: 1.0000 - val_loss: 0.0755 - val_accuracy: 1.0000\n",
      "Epoch 9/20\n",
      "1/1 [==============================] - 2s 2s/step - loss: 0.0035 - accuracy: 1.0000 - val_loss: 0.0202 - val_accuracy: 1.0000\n",
      "Epoch 10/20\n",
      "1/1 [==============================] - 2s 2s/step - loss: 0.0048 - accuracy: 1.0000 - val_loss: 0.0540 - val_accuracy: 1.0000\n",
      "Epoch 11/20\n",
      "1/1 [==============================] - 2s 2s/step - loss: 2.1431e-04 - accuracy: 1.0000 - val_loss: 0.0351 - val_accuracy: 1.0000\n",
      "Epoch 12/20\n",
      "1/1 [==============================] - 2s 2s/step - loss: 0.0100 - accuracy: 1.0000 - val_loss: 0.0146 - val_accuracy: 1.0000\n",
      "Epoch 13/20\n",
      "1/1 [==============================] - 2s 2s/step - loss: 0.0219 - accuracy: 1.0000 - val_loss: 0.0617 - val_accuracy: 1.0000\n",
      "Epoch 14/20\n",
      "1/1 [==============================] - 2s 2s/step - loss: 6.0316e-04 - accuracy: 1.0000 - val_loss: 0.0062 - val_accuracy: 1.0000\n",
      "Epoch 15/20\n",
      "1/1 [==============================] - 2s 2s/step - loss: 1.1016e-04 - accuracy: 1.0000 - val_loss: 0.0081 - val_accuracy: 1.0000\n",
      "Epoch 16/20\n",
      "1/1 [==============================] - 2s 2s/step - loss: 0.0035 - accuracy: 1.0000 - val_loss: 0.0370 - val_accuracy: 1.0000\n",
      "Epoch 17/20\n",
      "1/1 [==============================] - 2s 2s/step - loss: 8.0195e-06 - accuracy: 1.0000 - val_loss: 0.0136 - val_accuracy: 1.0000\n",
      "Epoch 18/20\n",
      "1/1 [==============================] - 3s 3s/step - loss: 0.0200 - accuracy: 1.0000 - val_loss: 0.0023 - val_accuracy: 1.0000\n",
      "Epoch 19/20\n",
      "1/1 [==============================] - 3s 3s/step - loss: 0.0378 - accuracy: 0.9655 - val_loss: 0.0137 - val_accuracy: 1.0000\n",
      "Epoch 20/20\n",
      "1/1 [==============================] - 3s 3s/step - loss: 7.0014e-05 - accuracy: 1.0000 - val_loss: 0.0060 - val_accuracy: 1.0000\n"
     ]
    },
    {
     "data": {
      "image/png": "[encoded data removed]",
      "text/plain": [
       "<Figure size 432x288 with 1 Axes>"
      ]
     },
     "metadata": {
      "needs_background": "light"
     },
     "output_type": "display_data"
    }
   ],
   "source": [
    "with strategy.scope():\n",
    "    model = build_model(num_classes=3)\n",
    "\n",
    "epochs = 20  # @param {type: \"slider\", min:8, max:80}\n",
    "hist = model.fit_generator(it,epochs=epochs,validation_data=it_v)\n",
    "plot_hist(hist)"
   ]
  },
  {
   "cell_type": "code",
   "execution_count": 167,
   "id": "50408c26",
   "metadata": {},
   "outputs": [],
   "source": [
    "model.save(\"./batt.h5\")"
   ]
  },
  {
   "cell_type": "code",
   "execution_count": 176,
   "id": "21436a7a",
   "metadata": {},
   "outputs": [],
   "source": [
    "from PIL import Image\n",
    "img = Image.open(\"C:/class/sql/BATT/button/7.jpg\")\n",
    "#img.show()\n",
    "img = tf.keras.preprocessing.image.img_to_array(img)\n",
    "img = tf.image.resize(img,[256,256])\n",
    "img = tf.expand_dims(img,axis=0)"
   ]
  },
  {
   "cell_type": "code",
   "execution_count": 177,
   "id": "e5f875de",
   "metadata": {},
   "outputs": [
    {
     "data": {
      "text/plain": [
       "array([0.00112785, 0.01090512, 0.9879671 ], dtype=float32)"
      ]
     },
     "execution_count": 177,
     "metadata": {},
     "output_type": "execute_result"
    }
   ],
   "source": [
    "import numpy as np\n",
    "model.predict(img)[0]"
   ]
  },
  {
   "cell_type": "code",
   "execution_count": null,
   "id": "9265fb04",
   "metadata": {},
   "outputs": [],
   "source": []
  }
 ],
 "metadata": {
  "kernelspec": {
   "display_name": "Python 3",
   "language": "python",
   "name": "python3"
  },
  "language_info": {
   "codemirror_mode": {
    "name": "ipython",
    "version": 3
   },
   "file_extension": ".py",
   "mimetype": "text/x-python",
   "name": "python",
   "nbconvert_exporter": "python",
   "pygments_lexer": "ipython3",
   "version": "3.8.8"
  }
 },
 "nbformat": 4,
 "nbformat_minor": 5
}
